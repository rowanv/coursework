{
 "metadata": {
  "name": "",
  "signature": "sha256:fd794e6f43e315343aed83fb1d3b89036d0fbd37e9b34adc221e0b9b5a40acf7"
 },
 "nbformat": 3,
 "nbformat_minor": 0,
 "worksheets": []
}