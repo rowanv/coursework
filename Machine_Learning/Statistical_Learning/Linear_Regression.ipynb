{
 "metadata": {
  "name": "",
  "signature": "sha256:0ccab5f51b49acc8849cc3fb8198bacf7b4a149f74da25cf7be2397093ee4d14"
 },
 "nbformat": 3,
 "nbformat_minor": 0,
 "worksheets": [
  {
   "cells": [
    {
     "cell_type": "markdown",
     "metadata": {},
     "source": [
      "Note: This tutorial used James et al.'s An Introduction to Statistical Learning with Applications in R as a reference. "
     ]
    },
    {
     "cell_type": "markdown",
     "metadata": {},
     "source": [
      "This notebook hand-codes a linear regression model. "
     ]
    },
    {
     "cell_type": "code",
     "collapsed": false,
     "input": [
      "%matplotlib inline\n",
      "from __future__ import division\n",
      "import numpy as np\n",
      "import pandas as pd\n",
      "import matplotlib.pyplot as plt\n",
      "from sklearn.datasets import load_boston\n",
      "\n",
      "\n",
      "boston = load_boston()\n",
      "bos = pd.DataFrame(boston.data)\n",
      "bos.columns = boston.feature_names\n",
      "\n",
      "bos['price'] = boston.target\n",
      "bos.head()"
     ],
     "language": "python",
     "metadata": {},
     "outputs": [
      {
       "html": [
        "<div style=\"max-height:1000px;max-width:1500px;overflow:auto;\">\n",
        "<table border=\"1\" class=\"dataframe\">\n",
        "  <thead>\n",
        "    <tr style=\"text-align: right;\">\n",
        "      <th></th>\n",
        "      <th>CRIM</th>\n",
        "      <th>ZN</th>\n",
        "      <th>INDUS</th>\n",
        "      <th>CHAS</th>\n",
        "      <th>NOX</th>\n",
        "      <th>RM</th>\n",
        "      <th>AGE</th>\n",
        "      <th>DIS</th>\n",
        "      <th>RAD</th>\n",
        "      <th>TAX</th>\n",
        "      <th>PTRATIO</th>\n",
        "      <th>B</th>\n",
        "      <th>LSTAT</th>\n",
        "      <th>price</th>\n",
        "    </tr>\n",
        "  </thead>\n",
        "  <tbody>\n",
        "    <tr>\n",
        "      <th>0</th>\n",
        "      <td> 0.00632</td>\n",
        "      <td> 18</td>\n",
        "      <td> 2.31</td>\n",
        "      <td> 0</td>\n",
        "      <td> 0.538</td>\n",
        "      <td> 6.575</td>\n",
        "      <td> 65.2</td>\n",
        "      <td> 4.0900</td>\n",
        "      <td> 1</td>\n",
        "      <td> 296</td>\n",
        "      <td> 15.3</td>\n",
        "      <td> 396.90</td>\n",
        "      <td> 4.98</td>\n",
        "      <td> 24.0</td>\n",
        "    </tr>\n",
        "    <tr>\n",
        "      <th>1</th>\n",
        "      <td> 0.02731</td>\n",
        "      <td>  0</td>\n",
        "      <td> 7.07</td>\n",
        "      <td> 0</td>\n",
        "      <td> 0.469</td>\n",
        "      <td> 6.421</td>\n",
        "      <td> 78.9</td>\n",
        "      <td> 4.9671</td>\n",
        "      <td> 2</td>\n",
        "      <td> 242</td>\n",
        "      <td> 17.8</td>\n",
        "      <td> 396.90</td>\n",
        "      <td> 9.14</td>\n",
        "      <td> 21.6</td>\n",
        "    </tr>\n",
        "    <tr>\n",
        "      <th>2</th>\n",
        "      <td> 0.02729</td>\n",
        "      <td>  0</td>\n",
        "      <td> 7.07</td>\n",
        "      <td> 0</td>\n",
        "      <td> 0.469</td>\n",
        "      <td> 7.185</td>\n",
        "      <td> 61.1</td>\n",
        "      <td> 4.9671</td>\n",
        "      <td> 2</td>\n",
        "      <td> 242</td>\n",
        "      <td> 17.8</td>\n",
        "      <td> 392.83</td>\n",
        "      <td> 4.03</td>\n",
        "      <td> 34.7</td>\n",
        "    </tr>\n",
        "    <tr>\n",
        "      <th>3</th>\n",
        "      <td> 0.03237</td>\n",
        "      <td>  0</td>\n",
        "      <td> 2.18</td>\n",
        "      <td> 0</td>\n",
        "      <td> 0.458</td>\n",
        "      <td> 6.998</td>\n",
        "      <td> 45.8</td>\n",
        "      <td> 6.0622</td>\n",
        "      <td> 3</td>\n",
        "      <td> 222</td>\n",
        "      <td> 18.7</td>\n",
        "      <td> 394.63</td>\n",
        "      <td> 2.94</td>\n",
        "      <td> 33.4</td>\n",
        "    </tr>\n",
        "    <tr>\n",
        "      <th>4</th>\n",
        "      <td> 0.06905</td>\n",
        "      <td>  0</td>\n",
        "      <td> 2.18</td>\n",
        "      <td> 0</td>\n",
        "      <td> 0.458</td>\n",
        "      <td> 7.147</td>\n",
        "      <td> 54.2</td>\n",
        "      <td> 6.0622</td>\n",
        "      <td> 3</td>\n",
        "      <td> 222</td>\n",
        "      <td> 18.7</td>\n",
        "      <td> 396.90</td>\n",
        "      <td> 5.33</td>\n",
        "      <td> 36.2</td>\n",
        "    </tr>\n",
        "  </tbody>\n",
        "</table>\n",
        "</div>"
       ],
       "metadata": {},
       "output_type": "pyout",
       "prompt_number": 12,
       "text": [
        "      CRIM  ZN  INDUS  CHAS    NOX     RM   AGE     DIS  RAD  TAX  PTRATIO  \\\n",
        "0  0.00632  18   2.31     0  0.538  6.575  65.2  4.0900    1  296     15.3   \n",
        "1  0.02731   0   7.07     0  0.469  6.421  78.9  4.9671    2  242     17.8   \n",
        "2  0.02729   0   7.07     0  0.469  7.185  61.1  4.9671    2  242     17.8   \n",
        "3  0.03237   0   2.18     0  0.458  6.998  45.8  6.0622    3  222     18.7   \n",
        "4  0.06905   0   2.18     0  0.458  7.147  54.2  6.0622    3  222     18.7   \n",
        "\n",
        "        B  LSTAT  price  \n",
        "0  396.90   4.98   24.0  \n",
        "1  396.90   9.14   21.6  \n",
        "2  392.83   4.03   34.7  \n",
        "3  394.63   2.94   33.4  \n",
        "4  396.90   5.33   36.2  "
       ]
      }
     ],
     "prompt_number": 12
    },
    {
     "cell_type": "markdown",
     "metadata": {},
     "source": [
      "We will approximate our predictor using the following equation:\n",
      "$$Y = \\beta_0 + \\beta_1X + \\epsilon $$"
     ]
    },
    {
     "cell_type": "markdown",
     "metadata": {},
     "source": [
      "Therefore, we aim to minimize the residual sum of least squares:\n",
      "$$RSS = e_1^2 + e_2^2 + ...+ e_n^2$$"
     ]
    },
    {
     "cell_type": "markdown",
     "metadata": {},
     "source": [
      "Which for one independent variable can be rewritten as\n",
      "$$RSS = (y-\\beta_0 -\\beta_1X)^2$$"
     ]
    },
    {
     "cell_type": "markdown",
     "metadata": {},
     "source": [
      "In order to find values of $\\beta_0$ and $\\beta_1$ that minimize our equation, we want to know where the derivative of our equation will be equal to 0. Since this is a multivariate equation, we start by taking the derivative with respect to the regression constant:"
     ]
    },
    {
     "cell_type": "markdown",
     "metadata": {},
     "source": [
      "$$\\frac{dRSS}{d\\beta_0} = \\frac{d}{d\\beta_0}[\\Sigma_{i=1}^{N}(y - \\beta_0 - \\beta_1X)^2]$$"
     ]
    },
    {
     "cell_type": "markdown",
     "metadata": {},
     "source": [
      "Since the derivative of the sums of an expression is equal to the sum of the expressions of the derivative, we can put the summation operator in front:\n",
      "    \n",
      "$$\\frac{\\partial RSS}{\\partial \\beta_0} = \\Sigma_{i=1}^{N}\\frac{\\partial}{\\partial \\beta_0}[(y - \\beta_0 - \\beta_1X)^2]$$"
     ]
    },
    {
     "cell_type": "markdown",
     "metadata": {},
     "source": [
      "Which then evaluates to:\n",
      "    \n",
      "$$\\frac{\\partial RSS}{\\partial \\beta_0} = -2 \\Sigma_{i=1}^{N}[(y - \\beta_0 - \\beta_1X)]$$"
     ]
    },
    {
     "cell_type": "markdown",
     "metadata": {},
     "source": [
      "By a similar process, the partial derivative with respect to $\\beta_1$ is"
     ]
    },
    {
     "cell_type": "markdown",
     "metadata": {},
     "source": [
      "$$\\frac{\\partial RSS}{\\partial \\beta_1} = -2 \\Sigma_{i=1}^{N}\\frac{\\partial}{\\partial \\beta_0}[(y - \\beta_0 - \\beta_1X)]$$"
     ]
    },
    {
     "cell_type": "markdown",
     "metadata": {},
     "source": [
      "...some more math...\n",
      "\n",
      "Which gives us the following solutions:"
     ]
    },
    {
     "cell_type": "markdown",
     "metadata": {},
     "source": [
      "$$\\beta_0 = \\bar{y} - \\beta_1 \\bar{x} $$"
     ]
    },
    {
     "cell_type": "markdown",
     "metadata": {},
     "source": [
      "$$\\beta_1 = \\frac{\\Sigma_{i=1}^n (x_i - \\bar{x})(y_i - \\bar{y})}{\\Sigma_{i=1}^n (x_i - \\bar{x})^2}$$"
     ]
    },
    {
     "cell_type": "heading",
     "level": 1,
     "metadata": {},
     "source": [
      "Coding the Solution"
     ]
    },
    {
     "cell_type": "code",
     "collapsed": false,
     "input": [
      "x = bos.LSTAT\n",
      "y = bos.price\n",
      "\n",
      "x.head()\n"
     ],
     "language": "python",
     "metadata": {},
     "outputs": [
      {
       "metadata": {},
       "output_type": "pyout",
       "prompt_number": 13,
       "text": [
        "0    4.98\n",
        "1    9.14\n",
        "2    4.03\n",
        "3    2.94\n",
        "4    5.33\n",
        "Name: LSTAT, dtype: float64"
       ]
      }
     ],
     "prompt_number": 13
    },
    {
     "cell_type": "code",
     "collapsed": false,
     "input": [
      "n = len(x)\n",
      "x_sum = np.sum(x)\n",
      "y_sum = np.sum(y)\n",
      "\n",
      "x_sample_mean = (1/n)*np.sum(x)\n",
      "y_sample_mean = (1/n)*np.sum(y)\n",
      "\n",
      "print(x_sample_mean, y_sample_mean)"
     ],
     "language": "python",
     "metadata": {},
     "outputs": [
      {
       "output_type": "stream",
       "stream": "stdout",
       "text": [
        "(12.65306324110672, 22.532806324110673)\n"
       ]
      }
     ],
     "prompt_number": 35
    },
    {
     "cell_type": "code",
     "collapsed": false,
     "input": [
      "sum_x_squared = np.sum([value*2 for (index, value) in x.iteritems()])\n",
      "sum_x_times_y = np.sum([x_value*y_value for (x_index, x_value) in x.iteritems() \\\n",
      "                        for (y_index, y_value) in y.iteritems()])\n",
      "\n",
      "beta_1 = (sum_x_times_y - (x_sum * y_sum) / n) / (sum_x_squared - ((x_sum **2) / n))\n",
      "    \n",
      "beta_1"
     ],
     "language": "python",
     "metadata": {},
     "outputs": [
      {
       "metadata": {},
       "output_type": "pyout",
       "prompt_number": 49,
       "text": [
        "-1068.1497834132583"
       ]
      }
     ],
     "prompt_number": 49
    },
    {
     "cell_type": "code",
     "collapsed": false,
     "input": [
      "beta_0 = (y_sum - beta_1 * x_sample_mean) / n\n",
      "beta_0"
     ],
     "language": "python",
     "metadata": {},
     "outputs": [
      {
       "metadata": {},
       "output_type": "pyout",
       "prompt_number": 50,
       "text": [
        "49.243017313245865"
       ]
      }
     ],
     "prompt_number": 50
    },
    {
     "cell_type": "code",
     "collapsed": false,
     "input": [],
     "language": "python",
     "metadata": {},
     "outputs": [
      {
       "metadata": {},
       "output_type": "pyout",
       "prompt_number": 48,
       "text": [
        "-1068.1497834132583"
       ]
      }
     ],
     "prompt_number": 48
    },
    {
     "cell_type": "code",
     "collapsed": false,
     "input": [
      "np.cov(x,y)/np.var(x)"
     ],
     "language": "python",
     "metadata": {},
     "outputs": [
      {
       "metadata": {},
       "output_type": "pyout",
       "prompt_number": 31,
       "text": [
        "array([[ 1.0019802 , -0.95193064],\n",
        "       [-0.95193064,  1.66201827]])"
       ]
      }
     ],
     "prompt_number": 31
    },
    {
     "cell_type": "code",
     "collapsed": false,
     "input": [
      "np.sum(x*y)"
     ],
     "language": "python",
     "metadata": {},
     "outputs": [
      {
       "metadata": {},
       "output_type": "pyout",
       "prompt_number": 32,
       "text": [
        "119799.159"
       ]
      }
     ],
     "prompt_number": 32
    },
    {
     "cell_type": "code",
     "collapsed": false,
     "input": [],
     "language": "python",
     "metadata": {},
     "outputs": []
    }
   ],
   "metadata": {}
  }
 ]
}