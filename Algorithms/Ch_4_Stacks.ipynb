{
 "metadata": {
  "name": "",
  "signature": "sha256:c9ec9cf494794c83e55c91903f7e43931bdc053c12066b9e44725ab1d7f3261b"
 },
 "nbformat": 3,
 "nbformat_minor": 0,
 "worksheets": [
  {
   "cells": [
    {
     "cell_type": "code",
     "collapsed": false,
     "input": [
      "class Stack:\n",
      "    \n",
      "    def __init__(self, limit = 100):\n",
      "        self.data = []\n",
      "        self.length = len(self.data)\n",
      "        self.limit = limit\n",
      "        \n",
      "    def Push(self, item):\n",
      "        if len(self.data) >= self.limit:\n",
      "            return 'Stack overflow'\n",
      "        else:\n",
      "            self.data.append(item)\n",
      "        \n",
      "    def Pop(self):\n",
      "        if len(self.data) == 0:\n",
      "            return 'Stack underflow'\n",
      "        else:\n",
      "            self.data.pop()\n",
      "    \n",
      "    def Length(self):\n",
      "        return len(self.data)\n",
      "    \n",
      "    def Top(self):\n",
      "        if len(self.data) == 0:\n",
      "            return 'The stack is empty, there is no top item'\n",
      "        return data[len(data)]\n",
      "    \n",
      "    def IsEmptyStack(self):\n",
      "        return len(self.data) == 0\n",
      "    \n",
      "    def __str__(self):\n",
      "        string_data = [str(x) for x in self.data]\n",
      "        return str(','.join(string_data))\n",
      "    "
     ],
     "language": "python",
     "metadata": {},
     "outputs": [],
     "prompt_number": 53
    },
    {
     "cell_type": "code",
     "collapsed": false,
     "input": [
      "a = Stack()\n",
      "a.Push(1)\n",
      "a.Push(8)\n",
      "a.Push(8)\n",
      "a.Push(9)\n",
      "a.Pop()\n",
      "print(a)"
     ],
     "language": "python",
     "metadata": {},
     "outputs": [
      {
       "output_type": "stream",
       "stream": "stdout",
       "text": [
        "1,8,8\n"
       ]
      }
     ],
     "prompt_number": 54
    },
    {
     "cell_type": "code",
     "collapsed": false,
     "input": [
      "a.Length()"
     ],
     "language": "python",
     "metadata": {},
     "outputs": [
      {
       "metadata": {},
       "output_type": "pyout",
       "prompt_number": 55,
       "text": [
        "3"
       ]
      }
     ],
     "prompt_number": 55
    },
    {
     "cell_type": "code",
     "collapsed": false,
     "input": [
      "a.IsEmptyStack()"
     ],
     "language": "python",
     "metadata": {},
     "outputs": [
      {
       "metadata": {},
       "output_type": "pyout",
       "prompt_number": 56,
       "text": [
        "False"
       ]
      }
     ],
     "prompt_number": 56
    },
    {
     "cell_type": "code",
     "collapsed": false,
     "input": [
      "a.Pop()\n",
      "a.Pop()\n",
      "a.Pop()\n",
      "a.Pop()"
     ],
     "language": "python",
     "metadata": {},
     "outputs": [
      {
       "metadata": {},
       "output_type": "pyout",
       "prompt_number": 57,
       "text": [
        "'Stack underflow'"
       ]
      }
     ],
     "prompt_number": 57
    },
    {
     "cell_type": "code",
     "collapsed": false,
     "input": [
      "a.Top()"
     ],
     "language": "python",
     "metadata": {},
     "outputs": [
      {
       "metadata": {},
       "output_type": "pyout",
       "prompt_number": 58,
       "text": [
        "'The stack is empty, there is no top item'"
       ]
      }
     ],
     "prompt_number": 58
    },
    {
     "cell_type": "code",
     "collapsed": false,
     "input": [
      "#This still need work\n",
      "\n",
      "def balanceParens(exp):\n",
      "    '''checks if parens are balanced for some expression\n",
      "    >>>balanceParens('{([)}')\n",
      "    False\n",
      "    >>>balanceParens('{[()]}')\n",
      "    True'''\n",
      "    parens_stack = Stack()\n",
      "    matching_parens = {'{':'}', '(':')', '[':']'}\n",
      "    for l in exp:\n",
      "        if l in matching_parens.keys():\n",
      "            parens_stack.Push(l)\n",
      "        elif l in matching_parens.values():\n",
      "            if parens_stack.IsEmptyStack():\n",
      "                return False\n",
      "            elif matching_parens[parens_stack.Top()] == l:\n",
      "                parens_stack.Pop()\n",
      "            else:\n",
      "                return False\n",
      "        else:\n",
      "            return 'That is an invalid parentheses'\n",
      "        if parens_stack.IsEmptyStack():\n",
      "            return True\n",
      "        else:\n",
      "            return False, parens_stack.data\n",
      "        print parens_stack\n",
      "\n"
     ],
     "language": "python",
     "metadata": {},
     "outputs": [],
     "prompt_number": 85
    },
    {
     "cell_type": "code",
     "collapsed": false,
     "input": [
      "balanceParens('{[]}')"
     ],
     "language": "python",
     "metadata": {},
     "outputs": [
      {
       "metadata": {},
       "output_type": "pyout",
       "prompt_number": 86,
       "text": [
        "(False, ['{'])"
       ]
      }
     ],
     "prompt_number": 86
    },
    {
     "cell_type": "code",
     "collapsed": false,
     "input": [],
     "language": "python",
     "metadata": {},
     "outputs": [],
     "prompt_number": 86
    },
    {
     "cell_type": "code",
     "collapsed": false,
     "input": [],
     "language": "python",
     "metadata": {},
     "outputs": []
    }
   ],
   "metadata": {}
  }
 ]
}