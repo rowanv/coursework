{
 "metadata": {
  "name": "",
  "signature": "sha256:73951750985ca036eefa122de6d2966c9806fccefd964e5adc2e0cfc77b198f5"
 },
 "nbformat": 3,
 "nbformat_minor": 0,
 "worksheets": [
  {
   "cells": [
    {
     "cell_type": "code",
     "collapsed": false,
     "input": [
      "#Linked List Node\n",
      "\n",
      "class Node:\n",
      "    #constructor\n",
      "    def __init__(self, data=None, pointer=None):\n",
      "        self.data = data\n",
      "        self.pointer = pointer\n",
      "    \n",
      "    def getData(self):\n",
      "        return self.data\n",
      "    \n",
      "    def getPointer(self):\n",
      "        return self.pointer\n",
      "    \n",
      "    def hasNext(self):\n",
      "        return self.pointer != None"
     ],
     "language": "python",
     "metadata": {},
     "outputs": [],
     "prompt_number": 3
    },
    {
     "cell_type": "code",
     "collapsed": false,
     "input": [
      "#Create a list 5 -> 1 -> 17 -> 14 -> NULL\n",
      "\n",
      "n4 = Node(14, None)\n",
      "\n",
      "n3 = Node(17,n4)\n",
      "n2 = Node(1,n3)\n",
      "n1 = Node(5, n2)\n",
      "\n",
      "n1.getData()"
     ],
     "language": "python",
     "metadata": {},
     "outputs": [
      {
       "metadata": {},
       "output_type": "pyout",
       "prompt_number": 5,
       "text": [
        "5"
       ]
      }
     ],
     "prompt_number": 5
    },
    {
     "cell_type": "code",
     "collapsed": false,
     "input": [],
     "language": "python",
     "metadata": {},
     "outputs": [],
     "prompt_number": 5
    },
    {
     "cell_type": "code",
     "collapsed": false,
     "input": [
      "n4.getData()"
     ],
     "language": "python",
     "metadata": {},
     "outputs": [
      {
       "metadata": {},
       "output_type": "pyout",
       "prompt_number": 6,
       "text": [
        "14"
       ]
      }
     ],
     "prompt_number": 6
    },
    {
     "cell_type": "code",
     "collapsed": false,
     "input": [
      "n4.getPointer()"
     ],
     "language": "python",
     "metadata": {},
     "outputs": [],
     "prompt_number": 7
    },
    {
     "cell_type": "code",
     "collapsed": false,
     "input": [
      "class LinkedList:\n",
      "    def __init__(self):\n",
      "        self.beginning = None\n",
      "    \n",
      "    def setBeginning(self, node):\n",
      "        self.beginning = node\n",
      "    \n",
      "    def getBeginning(self):\n",
      "        return self.beginning.data\n",
      "    \n",
      "    def getNextNode(self):\n",
      "        return self.pointer.data\n",
      "    \n",
      "    def lengthLinkedList(self):\n",
      "        #Traverse the list and print it\n",
      "\n",
      "        current = self.beginning\n",
      "        counter = 0\n",
      "        while current != None:\n",
      "            counter += 1\n",
      "            current = current.getPointer()\n",
      "        return counter\n"
     ],
     "language": "python",
     "metadata": {},
     "outputs": [],
     "prompt_number": 38
    },
    {
     "cell_type": "code",
     "collapsed": false,
     "input": [
      "link_list_1 = LinkedList()\n",
      "link_list_1.setBeginning(n1)\n",
      "link_list_1.getBeginning()"
     ],
     "language": "python",
     "metadata": {},
     "outputs": [
      {
       "metadata": {},
       "output_type": "pyout",
       "prompt_number": 39,
       "text": [
        "5"
       ]
      }
     ],
     "prompt_number": 39
    },
    {
     "cell_type": "code",
     "collapsed": false,
     "input": [
      "link_list_1.lengthLinkedList()"
     ],
     "language": "python",
     "metadata": {},
     "outputs": [
      {
       "metadata": {},
       "output_type": "pyout",
       "prompt_number": 40,
       "text": [
        "4"
       ]
      }
     ],
     "prompt_number": 40
    },
    {
     "cell_type": "code",
     "collapsed": false,
     "input": [],
     "language": "python",
     "metadata": {},
     "outputs": []
    }
   ],
   "metadata": {}
  }
 ]
}