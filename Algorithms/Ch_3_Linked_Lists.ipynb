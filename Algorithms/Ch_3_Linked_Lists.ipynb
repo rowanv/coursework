{
 "metadata": {
  "name": "",
  "signature": "sha256:027d9e603cdffbb80ee01a50f910b96a533ea1ff99c87d526c038473f5500dc5"
 },
 "nbformat": 3,
 "nbformat_minor": 0,
 "worksheets": [
  {
   "cells": [
    {
     "cell_type": "code",
     "collapsed": false,
     "input": [
      "#Linked List Node\n",
      "\n",
      "class Node:\n",
      "    #constructor\n",
      "    def __init__(self, data=None, pointer=None):\n",
      "        self.data = data\n",
      "        self.pointer = pointer\n",
      "    \n",
      "    def getData(self):\n",
      "        return self.data\n",
      "    \n",
      "    def getPointer(self):\n",
      "        return self.pointer\n",
      "    \n",
      "    def hasNext(self):\n",
      "        return self.pointer != None"
     ],
     "language": "python",
     "metadata": {},
     "outputs": [],
     "prompt_number": 1
    },
    {
     "cell_type": "code",
     "collapsed": false,
     "input": [
      "#Create a list 5 -> 1 -> 17 -> 14 -> NULL\n",
      "\n",
      "n4 = Node(14, None)\n",
      "\n",
      "n3 = Node(17,n4)\n",
      "n2 = Node(1,n3)\n",
      "n1 = Node(5, n2)\n",
      "\n",
      "n1.getData()"
     ],
     "language": "python",
     "metadata": {},
     "outputs": [
      {
       "metadata": {},
       "output_type": "pyout",
       "prompt_number": 2,
       "text": [
        "5"
       ]
      }
     ],
     "prompt_number": 2
    },
    {
     "cell_type": "code",
     "collapsed": false,
     "input": [],
     "language": "python",
     "metadata": {},
     "outputs": [],
     "prompt_number": 2
    },
    {
     "cell_type": "code",
     "collapsed": false,
     "input": [
      "n4.getData()"
     ],
     "language": "python",
     "metadata": {},
     "outputs": [
      {
       "metadata": {},
       "output_type": "pyout",
       "prompt_number": 3,
       "text": [
        "14"
       ]
      }
     ],
     "prompt_number": 3
    },
    {
     "cell_type": "code",
     "collapsed": false,
     "input": [
      "n4.getPointer()"
     ],
     "language": "python",
     "metadata": {},
     "outputs": [],
     "prompt_number": 4
    },
    {
     "cell_type": "code",
     "collapsed": false,
     "input": [
      "class LinkedList:\n",
      "    def __init__(self):\n",
      "        self.beginning = None\n",
      "    \n",
      "    def setBeginning(self, node):\n",
      "        self.beginning = node\n",
      "    \n",
      "    def getBeginning(self):\n",
      "        return self.beginning.data\n",
      "    \n",
      "    def getNextNode(self):\n",
      "        return self.pointer.data\n",
      "    \n",
      "    def lengthLinkedList(self):\n",
      "        #Traverse the list and print it\n",
      "\n",
      "        current = self.beginning\n",
      "        counter = 0\n",
      "        while current != None:\n",
      "            counter += 1\n",
      "            print current.getData()\n",
      "            current = current.getPointer()\n",
      "        return counter\n",
      "    \n",
      "    def getEnd(self):\n",
      "        #Traverses linked list to get last Node's data\n",
      "        current = self.beginning\n",
      "        while current.getPointer() != None:\n",
      "            current = current.getPointer()\n",
      "        return current.data\n",
      "\n",
      "    def setEnd(self, n1):\n",
      "        #this method still needs some work\n",
      "        current = self.beginning\n",
      "        while current.getPointer() != None:\n",
      "            current = current.getPointer()\n",
      "        current.Pointer = n1.getData()\n"
     ],
     "language": "python",
     "metadata": {},
     "outputs": [],
     "prompt_number": 46
    },
    {
     "cell_type": "code",
     "collapsed": false,
     "input": [
      "link_list_1 = LinkedList()\n",
      "link_list_1.setBeginning(n1)\n",
      "link_list_1.getBeginning()"
     ],
     "language": "python",
     "metadata": {},
     "outputs": [
      {
       "metadata": {},
       "output_type": "pyout",
       "prompt_number": 47,
       "text": [
        "5"
       ]
      }
     ],
     "prompt_number": 47
    },
    {
     "cell_type": "code",
     "collapsed": false,
     "input": [
      "link_list_1.lengthLinkedList()"
     ],
     "language": "python",
     "metadata": {},
     "outputs": [
      {
       "output_type": "stream",
       "stream": "stdout",
       "text": [
        "5\n",
        "1\n",
        "17\n",
        "14\n"
       ]
      },
      {
       "metadata": {},
       "output_type": "pyout",
       "prompt_number": 48,
       "text": [
        "4"
       ]
      }
     ],
     "prompt_number": 48
    },
    {
     "cell_type": "code",
     "collapsed": false,
     "input": [
      "link_list_1.getEnd()"
     ],
     "language": "python",
     "metadata": {},
     "outputs": [
      {
       "metadata": {},
       "output_type": "pyout",
       "prompt_number": 49,
       "text": [
        "14"
       ]
      }
     ],
     "prompt_number": 49
    },
    {
     "cell_type": "code",
     "collapsed": false,
     "input": [
      "link_list_1.setEnd(n4)"
     ],
     "language": "python",
     "metadata": {},
     "outputs": [],
     "prompt_number": 50
    },
    {
     "cell_type": "code",
     "collapsed": false,
     "input": [
      "link_list_1.lengthLinkedList()"
     ],
     "language": "python",
     "metadata": {},
     "outputs": [
      {
       "output_type": "stream",
       "stream": "stdout",
       "text": [
        "5\n",
        "1\n",
        "17\n",
        "14\n"
       ]
      },
      {
       "metadata": {},
       "output_type": "pyout",
       "prompt_number": 52,
       "text": [
        "4"
       ]
      }
     ],
     "prompt_number": 52
    },
    {
     "cell_type": "code",
     "collapsed": false,
     "input": [],
     "language": "python",
     "metadata": {},
     "outputs": []
    }
   ],
   "metadata": {}
  }
 ]
}