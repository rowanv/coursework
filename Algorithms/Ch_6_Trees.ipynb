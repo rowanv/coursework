{
 "metadata": {
  "name": "",
  "signature": "sha256:d7b45fae431d850b7506b18d7a92f2fd34e9cbe3f317624098d19c5e63b28dc3"
 },
 "nbformat": 3,
 "nbformat_minor": 0,
 "worksheets": [
  {
   "cells": [
    {
     "cell_type": "heading",
     "level": 2,
     "metadata": {},
     "source": [
      "Implement a Tree Node"
     ]
    },
    {
     "cell_type": "code",
     "collapsed": false,
     "input": [
      "class TreeNode:\n",
      "    #constructor\n",
      "    def __init__(self, data, left, right):\n",
      "        self.data=data\n",
      "        self.left=left\n",
      "        self.right=right\n",
      "    \n",
      "    def getData(self):\n",
      "        return self.data\n",
      "    \n",
      "    def getLeft(self):\n",
      "        return self.left.data\n",
      "    \n",
      "    def getRight(self):\n",
      "        return self.right.data\n",
      "    \n",
      "    def setData(self, newdata):\n",
      "        self.data=newdata\n",
      "    \n",
      "    def insertLeft(self, newLeft):\n",
      "        '''newLeft: Instance of Tree node'''\n",
      "        if self.left == None:\n",
      "            self.left=newLeft.data\n",
      "        else:\n",
      "            #change the parent node's pointer\n",
      "            oldNode=getLeft(self)\n",
      "            self.left=newLeft.data\n",
      "            newLeft.left=oldNode.left\n",
      "            newLeft.right=oldNode.right\n",
      "            #change newLeft's pointer\n",
      "        self.left=newLeft\n",
      "        \n",
      "    def setRight(self, newRight):\n",
      "        self.right=newRight"
     ],
     "language": "python",
     "metadata": {},
     "outputs": [],
     "prompt_number": 25
    },
    {
     "cell_type": "code",
     "collapsed": false,
     "input": [
      "node1 = TreeNode('a', None, None)\n",
      "\n",
      "node1.getData()"
     ],
     "language": "python",
     "metadata": {},
     "outputs": [
      {
       "metadata": {},
       "output_type": "pyout",
       "prompt_number": 26,
       "text": [
        "'a'"
       ]
      }
     ],
     "prompt_number": 26
    },
    {
     "cell_type": "code",
     "collapsed": false,
     "input": [
      "n2 = TreeNode(2, None, None)\n",
      "n3 = TreeNode(3, None, None)\n",
      "n1 = TreeNode(1, n2, n3)\n",
      "\n",
      "n1.getData()"
     ],
     "language": "python",
     "metadata": {},
     "outputs": [
      {
       "metadata": {},
       "output_type": "pyout",
       "prompt_number": 27,
       "text": [
        "1"
       ]
      }
     ],
     "prompt_number": 27
    },
    {
     "cell_type": "code",
     "collapsed": false,
     "input": [
      "n1.getLeft()"
     ],
     "language": "python",
     "metadata": {},
     "outputs": [
      {
       "metadata": {},
       "output_type": "pyout",
       "prompt_number": 28,
       "text": [
        "2"
       ]
      }
     ],
     "prompt_number": 28
    },
    {
     "cell_type": "code",
     "collapsed": false,
     "input": [],
     "language": "python",
     "metadata": {},
     "outputs": [],
     "prompt_number": 28
    },
    {
     "cell_type": "code",
     "collapsed": false,
     "input": [
      "print node1.getData(), node3.getData()"
     ],
     "language": "python",
     "metadata": {},
     "outputs": [
      {
       "output_type": "stream",
       "stream": "stdout",
       "text": [
        "a 3\n"
       ]
      }
     ],
     "prompt_number": 29
    },
    {
     "cell_type": "code",
     "collapsed": false,
     "input": [
      "n4 = TreeNode(4, None, None)\n",
      "n2.insertLeft(n4)"
     ],
     "language": "python",
     "metadata": {},
     "outputs": [],
     "prompt_number": 30
    },
    {
     "cell_type": "code",
     "collapsed": false,
     "input": [
      "n2.getLeft()"
     ],
     "language": "python",
     "metadata": {},
     "outputs": [
      {
       "metadata": {},
       "output_type": "pyout",
       "prompt_number": 32,
       "text": [
        "4"
       ]
      }
     ],
     "prompt_number": 32
    },
    {
     "cell_type": "code",
     "collapsed": false,
     "input": [],
     "language": "python",
     "metadata": {},
     "outputs": []
    }
   ],
   "metadata": {}
  }
 ]
}