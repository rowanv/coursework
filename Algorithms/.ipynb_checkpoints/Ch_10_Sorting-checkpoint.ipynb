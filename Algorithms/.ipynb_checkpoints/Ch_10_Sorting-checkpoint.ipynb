{
 "metadata": {
  "name": "",
  "signature": "sha256:5327c40cdfff3b467a960da861b74b0242594ec972fcf5cc08ab257960eef828"
 },
 "nbformat": 3,
 "nbformat_minor": 0,
 "worksheets": [
  {
   "cells": [
    {
     "cell_type": "code",
     "collapsed": false,
     "input": [
      "#Mergesort\n",
      "def MergeSort(l):\n",
      "    '''Takes some list, l, and sorts it using MergeSort'''\n",
      "    \n",
      "    if len(l) < 2:\n",
      "        return l\n",
      "    else:\n",
      "        if len(l) % 2 == 0:\n",
      "            first_half = l[0:len(l)/2]\n",
      "            second_half = l[len(l)/2:len(l)]\n",
      "            print(first_half)\n",
      "            print(second_half)\n",
      "        else:\n",
      "            first_half = l[0:len(l)/2+0.5]\n",
      "            second_half = l[len(l)/2+0.5:len(l)]\n",
      "            print(first_half)\n",
      "            print(second_half)\n",
      "        if len(first_half) == 2:\n",
      "            if first_half[0] < first_half[1]:\n",
      "                return(first_half)\n",
      "            else:\n",
      "                temp = first_half[0]\n",
      "                first_half[0] = first_half[1]\n",
      "                first_half[1] = temp\n",
      "                return(first_half)\n",
      "        else:\n",
      "            first_half = MergeSort(first_half)\n",
      "            second_half = MergeSort(second_half)\n",
      "\n",
      "            #Still needs work\n",
      "            \n",
      "MergeSort([1,3,2,4])"
     ],
     "language": "python",
     "metadata": {},
     "outputs": [
      {
       "output_type": "stream",
       "stream": "stdout",
       "text": [
        "[1, 3]\n",
        "[2, 4]\n"
       ]
      },
      {
       "metadata": {},
       "output_type": "pyout",
       "prompt_number": 11,
       "text": [
        "[1, 3]"
       ]
      }
     ],
     "prompt_number": 11
    },
    {
     "cell_type": "code",
     "collapsed": false,
     "input": [
      "#Heapsort\n",
      "\n",
      "#Quicksort"
     ],
     "language": "python",
     "metadata": {},
     "outputs": [
      {
       "metadata": {},
       "output_type": "pyout",
       "prompt_number": 1,
       "text": [
        "2"
       ]
      }
     ],
     "prompt_number": 1
    },
    {
     "cell_type": "code",
     "collapsed": false,
     "input": [],
     "language": "python",
     "metadata": {},
     "outputs": []
    }
   ],
   "metadata": {}
  }
 ]
}